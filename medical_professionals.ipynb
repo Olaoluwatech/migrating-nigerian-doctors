{
 "cells": [
  {
   "cell_type": "markdown",
   "id": "f96663c5",
   "metadata": {},
   "source": [
    "# Project: Migrating Nigeria Medical Graduates\n",
    "#### By Olaoluwa Ebiekuraju"
   ]
  },
  {
   "cell_type": "markdown",
   "id": "31d331ab",
   "metadata": {},
   "source": [
    "#### Project Motivation: \n",
    "This work was inspired by the increase number of Nigerian doctors relocating to the United Kingdom and other developed countries.\n",
    "\n",
    "#### Data Sources: \n",
    "The data for the number of medical graduates produce in Nigeria from the Medical and Dental Council of Nigeria (MDCN) \n",
    "[website](https://www.mdcn.gov.ng/page/education/accredited-medical-and-dental-schools-in-nigeria-as-at-march-2022). A news by [Punch](https://www.google.com/amp/s/punchng.com/727-nigerian-doctors-migrate-to-uk-in-five-months/%3famp), that about 727 Nigeria medical doctors has migrated to the UK between December 2021 and May 2022 (6 months period).\n",
    "\n",
    "#### Data Description:\n",
    "1. Fully Accredited Schools: These are schools that are able to train medical/dental students and produce graduates i.e doctors\n",
    "2. Partially Accredited Schools: These are schools that are able to train medical/dental students and but have not gotten the final accreditation to produce doctors\n",
    "3. Quota: maximum number of medical/dental graduates a school can produce per accademic year\n",
    "\n",
    "                                                                                    --- Data Description By Itodo Israel"
   ]
  },
  {
   "cell_type": "markdown",
   "id": "221d79dd",
   "metadata": {},
   "source": [
    "#### Objectives:\n",
    "1. Determine the average number of medical doctors a Nigerian University can produce \n",
    "2. Determine the maximum number of medical doctors produced in Nigeria every year.\n",
    "3. Determine the Percentage of Nigeria Doctors That left for the UK in the last one year."
   ]
  },
  {
   "cell_type": "code",
   "execution_count": 1,
   "id": "1a7d2d57",
   "metadata": {},
   "outputs": [],
   "source": [
    "# load libraries\n",
    "import pandas as pd \n",
    "import requests\n",
    "from bs4 import BeautifulSoup as bs\n",
    "\n",
    "# display all contents\n",
    "pd.set_option('display.max_rows',None)\n",
    "pd.set_option('display.max_columns',None)\n",
    "pd.set_option('display.max_colwidth',1)"
   ]
  },
  {
   "cell_type": "markdown",
   "id": "7cde5c9b",
   "metadata": {},
   "source": [
    "## Gathering Data"
   ]
  },
  {
   "cell_type": "code",
   "execution_count": 2,
   "id": "7ec356d8",
   "metadata": {},
   "outputs": [],
   "source": [
    "# load the MDCN page that has the accredited schools\n",
    "url = 'https://www.mdcn.gov.ng/page/education/accredited-medical-and-dental-schools-in-nigeria-as-at-march-2022'\n",
    "response = requests.get(url)\n",
    "\n",
    "# store the page in memory using beautiful soup\n",
    "accredited_schools = bs(response.content, 'lxml')"
   ]
  },
  {
   "cell_type": "code",
   "execution_count": 3,
   "id": "7dfa12c5",
   "metadata": {},
   "outputs": [],
   "source": [
    "# Grabing each table from the page  \n",
    "tables = accredited_schools.find('div', class_=\"postcontent nobottommargin clearfix\").findAll('table')\n",
    "\n",
    "first_table = tables[0] # fully accredited medical schools \n",
    "second_table = tables[1] # partially accredited medical schools\n",
    "third_table = tables[2]  # fully accredited dental schools\n",
    "fourth_table = tables[3]  # partially accredited dental schools"
   ]
  },
  {
   "cell_type": "markdown",
   "id": "d5d358aa",
   "metadata": {},
   "source": [
    "The code below was gotten from [stackover](https://stackoverflow.com/a/58274853)"
   ]
  },
  {
   "cell_type": "code",
   "execution_count": 4,
   "id": "5abb1062",
   "metadata": {},
   "outputs": [],
   "source": [
    "# A function to help grab all the tables\n",
    "def tableDataText(table):\n",
    "    def rowgetDataText(tr, coltag='td'):\n",
    "        return [td.get_text(strip=True) for td in tr.find_all(coltag)]\n",
    "    rows = []\n",
    "    trs = table.find_all('tr')\n",
    "    for tr in trs:\n",
    "        rows.append(rowgetDataText(tr, 'td'))\n",
    "    return rows  \n",
    "\n",
    "# grab tables content\n",
    "table1 = tableDataText(first_table)  # fully accredited medical schools \n",
    "table2 = tableDataText(second_table) # partially accredited medical schools\n",
    "table3 = tableDataText(third_table)  # fully accredited dental schools\n",
    "table4 = tableDataText(fourth_table) # partially accredited dental schools"
   ]
  },
  {
   "cell_type": "code",
   "execution_count": 5,
   "id": "ec22a878",
   "metadata": {},
   "outputs": [],
   "source": [
    "# Pass table content into dataframe\n",
    "fully_accredited_meds = pd.DataFrame(table1)  # fully accredited medical schools\n",
    "partially_accredited_meds = pd.DataFrame(table2) # partially accredited medical schools\n",
    "fully_accredited_dentals = pd.DataFrame(table3)  # fully accredited dental schools\n",
    "partially_accredited_dentals = pd.DataFrame(table4) # partially accredited dental schools"
   ]
  },
  {
   "cell_type": "code",
   "execution_count": 6,
   "id": "f4009df4",
   "metadata": {},
   "outputs": [],
   "source": [
    "# A funtion to help change header and index of the tables\n",
    "def change_header_index(df):\n",
    "    new_header = df.iloc[0]\n",
    "    df = df[1:]\n",
    "    df.columns = new_header\n",
    "    df.set_index('S/N', inplace=True)\n",
    "    return df\n",
    "\n",
    "# Changing header and index of the tables\n",
    "fully_accredited_meds = change_header_index(fully_accredited_meds)\n",
    "partially_accredited_meds = change_header_index(partially_accredited_meds)\n",
    "fully_accredited_dentals = change_header_index(fully_accredited_dentals)\n",
    "partially_accredited_dentals = change_header_index(partially_accredited_dentals)"
   ]
  },
  {
   "cell_type": "markdown",
   "id": "d03a44b4",
   "metadata": {},
   "source": [
    "## Inspecting the data\n",
    "\n",
    "##### Only interested in the fully accredited medical schools"
   ]
  },
  {
   "cell_type": "code",
   "execution_count": 7,
   "id": "ca7d1547",
   "metadata": {},
   "outputs": [
    {
     "data": {
      "text/html": [
       "<div>\n",
       "<style scoped>\n",
       "    .dataframe tbody tr th:only-of-type {\n",
       "        vertical-align: middle;\n",
       "    }\n",
       "\n",
       "    .dataframe tbody tr th {\n",
       "        vertical-align: top;\n",
       "    }\n",
       "\n",
       "    .dataframe thead th {\n",
       "        text-align: right;\n",
       "    }\n",
       "</style>\n",
       "<table border=\"1\" class=\"dataframe\">\n",
       "  <thead>\n",
       "    <tr style=\"text-align: right;\">\n",
       "      <th></th>\n",
       "      <th>Name of Institution</th>\n",
       "      <th>Quota</th>\n",
       "    </tr>\n",
       "    <tr>\n",
       "      <th>S/N</th>\n",
       "      <th></th>\n",
       "      <th></th>\n",
       "    </tr>\n",
       "  </thead>\n",
       "  <tbody>\n",
       "    <tr>\n",
       "      <th>1</th>\n",
       "      <td>College of Health Sciences, Abia State University Uturu, Abia State.</td>\n",
       "      <td>120</td>\n",
       "    </tr>\n",
       "    <tr>\n",
       "      <th>2</th>\n",
       "      <td>College of Health Sciences, University of Uyo, Akwa Ibom.</td>\n",
       "      <td>150</td>\n",
       "    </tr>\n",
       "    <tr>\n",
       "      <th>3</th>\n",
       "      <td>College of Health Sciences, Nnamdi Azikiwe University Nnewi, Anambra State.</td>\n",
       "      <td>100</td>\n",
       "    </tr>\n",
       "    <tr>\n",
       "      <th>4</th>\n",
       "      <td>College of Medical Sciences, University of Maiduguri, Borno State.</td>\n",
       "      <td>150</td>\n",
       "    </tr>\n",
       "    <tr>\n",
       "      <th>5</th>\n",
       "      <td>College of Medical Sciences, University of Calabar, Cross - Rivers State.</td>\n",
       "      <td>150</td>\n",
       "    </tr>\n",
       "  </tbody>\n",
       "</table>\n",
       "</div>"
      ],
      "text/plain": [
       "0                                                            Name of Institution  \\\n",
       "S/N                                                                                \n",
       "1    College of Health Sciences, Abia State University Uturu, Abia State.          \n",
       "2    College of Health Sciences, University of Uyo, Akwa Ibom.                     \n",
       "3    College of Health Sciences, Nnamdi Azikiwe University Nnewi, Anambra State.   \n",
       "4    College of Medical Sciences, University of Maiduguri, Borno State.            \n",
       "5    College of Medical Sciences, University of Calabar, Cross - Rivers State.     \n",
       "\n",
       "0   Quota  \n",
       "S/N        \n",
       "1    120   \n",
       "2    150   \n",
       "3    100   \n",
       "4    150   \n",
       "5    150   "
      ]
     },
     "execution_count": 7,
     "metadata": {},
     "output_type": "execute_result"
    }
   ],
   "source": [
    "# checking the first five rows\n",
    "fully_accredited_meds.head()"
   ]
  },
  {
   "cell_type": "code",
   "execution_count": 8,
   "id": "157c24e1",
   "metadata": {},
   "outputs": [
    {
     "name": "stdout",
     "output_type": "stream",
     "text": [
      "<class 'pandas.core.frame.DataFrame'>\n",
      "Index: 37 entries, 1 to 37\n",
      "Data columns (total 2 columns):\n",
      " #   Column               Non-Null Count  Dtype \n",
      "---  ------               --------------  ----- \n",
      " 0   Name of Institution  37 non-null     object\n",
      " 1   Quota                37 non-null     object\n",
      "dtypes: object(2)\n",
      "memory usage: 888.0+ bytes\n"
     ]
    }
   ],
   "source": [
    "# checking the general properties of the data\n",
    "fully_accredited_meds.info()"
   ]
  },
  {
   "cell_type": "code",
   "execution_count": 9,
   "id": "d869495b",
   "metadata": {},
   "outputs": [
    {
     "data": {
      "text/plain": [
       "150    10\n",
       "50     10\n",
       "100    6 \n",
       "75     5 \n",
       "180    3 \n",
       "60     2 \n",
       "120    1 \n",
       "Name: Quota, dtype: int64"
      ]
     },
     "execution_count": 9,
     "metadata": {},
     "output_type": "execute_result"
    }
   ],
   "source": [
    "# Number of Univerties that can produce the different Quota\n",
    "fully_accredited_meds['Quota'].value_counts()"
   ]
  },
  {
   "cell_type": "markdown",
   "id": "8018bc3f",
   "metadata": {},
   "source": [
    "#### Observation:\n",
    "> The Quota datatype is in string instead of integer"
   ]
  },
  {
   "cell_type": "markdown",
   "id": "91401805",
   "metadata": {},
   "source": [
    "## cleaning"
   ]
  },
  {
   "cell_type": "code",
   "execution_count": 10,
   "id": "1e6a06a0",
   "metadata": {},
   "outputs": [],
   "source": [
    "# change the Quota datatype to integer\n",
    "fully_accredited_meds['Quota'] = fully_accredited_meds['Quota'].astype('int')"
   ]
  },
  {
   "cell_type": "markdown",
   "id": "d67ca946",
   "metadata": {},
   "source": [
    "## Analysis"
   ]
  },
  {
   "cell_type": "markdown",
   "id": "4ffbb31f",
   "metadata": {},
   "source": [
    "#### 1. Determine the average number of medical doctors a Nigerian University can produce "
   ]
  },
  {
   "cell_type": "code",
   "execution_count": 11,
   "id": "2f88abc7",
   "metadata": {},
   "outputs": [
    {
     "data": {
      "text/plain": [
       "101"
      ]
     },
     "execution_count": 11,
     "metadata": {},
     "output_type": "execute_result"
    }
   ],
   "source": [
    "# Average number of medicals students that can graduate from each medical schools\n",
    "graduate_avg = fully_accredited_meds['Quota'].mean() \n",
    "round(graduate_avg)"
   ]
  },
  {
   "cell_type": "markdown",
   "id": "d7e8e4c2",
   "metadata": {},
   "source": [
    "#### 2. Determine the the maximum number of medical doctors produced in Nigeria every year."
   ]
  },
  {
   "cell_type": "code",
   "execution_count": 12,
   "id": "4cad29cd",
   "metadata": {},
   "outputs": [
    {
     "data": {
      "text/plain": [
       "3755"
      ]
     },
     "execution_count": 12,
     "metadata": {},
     "output_type": "execute_result"
    }
   ],
   "source": [
    "# Maximum number of medical doctors Nigeria can produce in year as at today 03/09/2022\n",
    "fully_accredited_meds['Quota'].sum()"
   ]
  },
  {
   "cell_type": "markdown",
   "id": "8bd9a49f",
   "metadata": {},
   "source": [
    "### 3. Percentage of Nigeria Doctors That left for the UK in the last one year"
   ]
  },
  {
   "cell_type": "code",
   "execution_count": 13,
   "id": "6c4bc3d1",
   "metadata": {},
   "outputs": [
    {
     "data": {
      "text/plain": [
       "1454"
      ]
     },
     "execution_count": 13,
     "metadata": {},
     "output_type": "execute_result"
    }
   ],
   "source": [
    "# Total number of doctors that for UK in a year\n",
    "total_num_leaving = 727*2\n",
    "\n",
    "total_num_leaving"
   ]
  },
  {
   "cell_type": "code",
   "execution_count": 14,
   "id": "7c27b863",
   "metadata": {},
   "outputs": [
    {
     "data": {
      "text/plain": [
       "38.7"
      ]
     },
     "execution_count": 14,
     "metadata": {},
     "output_type": "execute_result"
    }
   ],
   "source": [
    "# Percentage of doctors that left for the UK in 2022\n",
    "per_leaving = total_num_leaving/fully_accredited_meds['Quota'].sum()*100\n",
    "\n",
    "per_leaving.round(1)"
   ]
  },
  {
   "cell_type": "markdown",
   "id": "ce1c4317",
   "metadata": {},
   "source": [
    "## Conclusion:\n",
    "\n",
    "#### Summary:\n",
    "Nigeria produces about 3755 medical graduates every year, each  meical school contributing an average of 101 doctors. Approximately 1454 doctors left for the UK alone in the last one year, which is about 38.7% of the total number of doctors produced in Nigeria per year.\n",
    "\n",
    "#### Limitation:\n",
    "The data for the number of doctor that left for the UK is just over a 6 months period."
   ]
  }
 ],
 "metadata": {
  "kernelspec": {
   "display_name": "Python 3 (ipykernel)",
   "language": "python",
   "name": "python3"
  },
  "language_info": {
   "codemirror_mode": {
    "name": "ipython",
    "version": 3
   },
   "file_extension": ".py",
   "mimetype": "text/x-python",
   "name": "python",
   "nbconvert_exporter": "python",
   "pygments_lexer": "ipython3",
   "version": "3.7.13"
  }
 },
 "nbformat": 4,
 "nbformat_minor": 5
}
