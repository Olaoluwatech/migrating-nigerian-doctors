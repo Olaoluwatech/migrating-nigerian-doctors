{
 "cells": [
  {
   "cell_type": "markdown",
   "id": "e4464370",
   "metadata": {},
   "source": [
    "# Project: Migrating Nigeria Medical Graduates\n",
    "#### By Olaoluwa Ebiekuraju"
   ]
  },
  {
   "cell_type": "markdown",
   "id": "94b72629",
   "metadata": {},
   "source": [
    "#### Project Motivation: \n",
    "This work was inspired by the increase number of Nigerian doctors relocating to the United Kingdom and other developed countries.\n",
    "\n",
    "#### Data Sources: \n",
    "The data for the number of medical graduates produce in Nigeria from the Medical and Dental Council of Nigeria (MDCN) \n",
    "[website](https://www.mdcn.gov.ng/page/education/accredited-medical-and-dental-schools-in-nigeria-as-at-march-2022). A news by [Punch](https://www.google.com/amp/s/punchng.com/727-nigerian-doctors-migrate-to-uk-in-five-months/%3famp), that about 727 Nigeria medical doctors has migrated to the UK between December 2021 and May 2022 (6 months period).\n",
    "\n",
    "#### Data Description:\n",
    "1. Fully Accredited Schools: These are schools that are able to train medical/dental students and produce graduates i.e doctors\n",
    "2. Partially Accredited Schools: These are schools that are able to train medical/dental students and but have not gotten the final accreditation to produce doctors\n",
    "3. Quota: maximum number of medical/dental graduates a school can produce per accademic year\n",
    "\n",
    "                                                                                    --- Data Description By Itodo Israel"
   ]
  },
  {
   "cell_type": "markdown",
   "id": "abad407c",
   "metadata": {},
   "source": [
    "#### Objectives:\n",
    "1. Determine the average number of medical doctors a Nigerian University can produce \n",
    "2. Determine the maximum number of medical doctors produced in Nigeria every year.\n",
    "3. Determine the Percentage of Nigeria Doctors That left for the UK in the last one year."
   ]
  },
  {
   "cell_type": "markdown",
   "id": "91f0be34",
   "metadata": {},
   "source": [
    "#### Results:\n",
    "1. The average number of medical doctors a Nigerian University can produce  is  **101**.\n",
    "2. The maximum number of medical doctors produced in Nigeria every year is   **3755**.\n",
    "3. The Percentage of Nigeria Doctors That left for the UK in the last one year was   **38.7%**"
   ]
  },
  {
   "cell_type": "markdown",
   "id": "324bb9c9",
   "metadata": {},
   "source": [
    "## Conclusion:\n",
    "\n",
    "#### Summary:\n",
    "Nigeria produces about 3755 medical graduates every year, each  meical school contributing an average of 101 doctors. Approximately 1454 doctors left for the UK alone in the last one year, which is about 38.7% of the total number of doctors produced in Nigeria per year.\n",
    "\n",
    "#### Limitation:\n",
    "The data for the number of doctor that left for the UK is just over a 6 months period."
   ]
  }
 ],
 "metadata": {
  "kernelspec": {
   "display_name": "Python 3 (ipykernel)",
   "language": "python",
   "name": "python3"
  },
  "language_info": {
   "codemirror_mode": {
    "name": "ipython",
    "version": 3
   },
   "file_extension": ".py",
   "mimetype": "text/x-python",
   "name": "python",
   "nbconvert_exporter": "python",
   "pygments_lexer": "ipython3",
   "version": "3.7.13"
  }
 },
 "nbformat": 4,
 "nbformat_minor": 5
}
